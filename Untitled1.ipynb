{
 "cells": [
  {
   "cell_type": "code",
   "execution_count": 1,
   "metadata": {},
   "outputs": [],
   "source": [
    "import pandas as pd"
   ]
  },
  {
   "cell_type": "code",
   "execution_count": 4,
   "metadata": {},
   "outputs": [],
   "source": [
    "annot = pd.read_csv('ProteinTable5_401179.txt', sep='\\t')"
   ]
  },
  {
   "cell_type": "code",
   "execution_count": 5,
   "metadata": {},
   "outputs": [
    {
     "data": {
      "text/html": [
       "<div>\n",
       "<style scoped>\n",
       "    .dataframe tbody tr th:only-of-type {\n",
       "        vertical-align: middle;\n",
       "    }\n",
       "\n",
       "    .dataframe tbody tr th {\n",
       "        vertical-align: top;\n",
       "    }\n",
       "\n",
       "    .dataframe thead th {\n",
       "        text-align: right;\n",
       "    }\n",
       "</style>\n",
       "<table border=\"1\" class=\"dataframe\">\n",
       "  <thead>\n",
       "    <tr style=\"text-align: right;\">\n",
       "      <th></th>\n",
       "      <th>#Replicon Name</th>\n",
       "      <th>Replicon Accession</th>\n",
       "      <th>Start</th>\n",
       "      <th>Stop</th>\n",
       "      <th>Strand</th>\n",
       "      <th>GeneID</th>\n",
       "      <th>Locus</th>\n",
       "      <th>Locus tag</th>\n",
       "      <th>Protein product</th>\n",
       "      <th>Length</th>\n",
       "      <th>Protein name</th>\n",
       "    </tr>\n",
       "  </thead>\n",
       "  <tbody>\n",
       "    <tr>\n",
       "      <td>0</td>\n",
       "      <td>Un</td>\n",
       "      <td>NW_020446025.1</td>\n",
       "      <td>27971</td>\n",
       "      <td>32175</td>\n",
       "      <td>+</td>\n",
       "      <td>100812360</td>\n",
       "      <td>LOC100812360</td>\n",
       "      <td>-</td>\n",
       "      <td>XP_003539151.1</td>\n",
       "      <td>764</td>\n",
       "      <td>BEL1-like homeodomain protein 1</td>\n",
       "    </tr>\n",
       "    <tr>\n",
       "      <td>1</td>\n",
       "      <td>Un</td>\n",
       "      <td>NW_020446025.1</td>\n",
       "      <td>27971</td>\n",
       "      <td>32175</td>\n",
       "      <td>+</td>\n",
       "      <td>100812360</td>\n",
       "      <td>LOC100812360</td>\n",
       "      <td>-</td>\n",
       "      <td>XP_006591059.1</td>\n",
       "      <td>764</td>\n",
       "      <td>BEL1-like homeodomain protein 1</td>\n",
       "    </tr>\n",
       "    <tr>\n",
       "      <td>2</td>\n",
       "      <td>Un</td>\n",
       "      <td>NW_020446025.1</td>\n",
       "      <td>27971</td>\n",
       "      <td>32175</td>\n",
       "      <td>+</td>\n",
       "      <td>100812360</td>\n",
       "      <td>LOC100812360</td>\n",
       "      <td>-</td>\n",
       "      <td>XP_006591060.1</td>\n",
       "      <td>764</td>\n",
       "      <td>BEL1-like homeodomain protein 1</td>\n",
       "    </tr>\n",
       "    <tr>\n",
       "      <td>3</td>\n",
       "      <td>Un</td>\n",
       "      <td>NW_020446025.1</td>\n",
       "      <td>27971</td>\n",
       "      <td>32175</td>\n",
       "      <td>+</td>\n",
       "      <td>100812360</td>\n",
       "      <td>LOC100812360</td>\n",
       "      <td>-</td>\n",
       "      <td>XP_014628598.1</td>\n",
       "      <td>764</td>\n",
       "      <td>BEL1-like homeodomain protein 1</td>\n",
       "    </tr>\n",
       "    <tr>\n",
       "      <td>4</td>\n",
       "      <td>Un</td>\n",
       "      <td>NW_020446025.1</td>\n",
       "      <td>42953</td>\n",
       "      <td>44230</td>\n",
       "      <td>+</td>\n",
       "      <td>106797837</td>\n",
       "      <td>LOC106797837</td>\n",
       "      <td>-</td>\n",
       "      <td>XP_014628564.1</td>\n",
       "      <td>284</td>\n",
       "      <td>zinc finger BED domain-containing protein RICE...</td>\n",
       "    </tr>\n",
       "  </tbody>\n",
       "</table>\n",
       "</div>"
      ],
      "text/plain": [
       "  #Replicon Name Replicon Accession  Start   Stop Strand     GeneID  \\\n",
       "0             Un     NW_020446025.1  27971  32175      +  100812360   \n",
       "1             Un     NW_020446025.1  27971  32175      +  100812360   \n",
       "2             Un     NW_020446025.1  27971  32175      +  100812360   \n",
       "3             Un     NW_020446025.1  27971  32175      +  100812360   \n",
       "4             Un     NW_020446025.1  42953  44230      +  106797837   \n",
       "\n",
       "          Locus Locus tag Protein product  Length  \\\n",
       "0  LOC100812360         -  XP_003539151.1     764   \n",
       "1  LOC100812360         -  XP_006591059.1     764   \n",
       "2  LOC100812360         -  XP_006591060.1     764   \n",
       "3  LOC100812360         -  XP_014628598.1     764   \n",
       "4  LOC106797837         -  XP_014628564.1     284   \n",
       "\n",
       "                                        Protein name  \n",
       "0                    BEL1-like homeodomain protein 1  \n",
       "1                    BEL1-like homeodomain protein 1  \n",
       "2                    BEL1-like homeodomain protein 1  \n",
       "3                    BEL1-like homeodomain protein 1  \n",
       "4  zinc finger BED domain-containing protein RICE...  "
      ]
     },
     "execution_count": 5,
     "metadata": {},
     "output_type": "execute_result"
    }
   ],
   "source": [
    "annot.head()"
   ]
  },
  {
   "cell_type": "code",
   "execution_count": 9,
   "metadata": {},
   "outputs": [],
   "source": [
    "annot_fix = annot[annot.columns[[5,6,8,9,10]]]"
   ]
  },
  {
   "cell_type": "code",
   "execution_count": 12,
   "metadata": {},
   "outputs": [
    {
     "name": "stderr",
     "output_type": "stream",
     "text": [
      "C:\\Users\\BIezz\\Anaconda3\\lib\\site-packages\\ipykernel_launcher.py:1: SettingWithCopyWarning: \n",
      "A value is trying to be set on a copy of a slice from a DataFrame.\n",
      "Try using .loc[row_indexer,col_indexer] = value instead\n",
      "\n",
      "See the caveats in the documentation: http://pandas.pydata.org/pandas-docs/stable/user_guide/indexing.html#returning-a-view-versus-a-copy\n",
      "  \"\"\"Entry point for launching an IPython kernel.\n"
     ]
    }
   ],
   "source": [
    "annot_fix['id'] = range(annot_fix.shape[0])"
   ]
  },
  {
   "cell_type": "code",
   "execution_count": 14,
   "metadata": {},
   "outputs": [],
   "source": [
    "annot_fix.to_csv('annot_table.csv',index=False)"
   ]
  },
  {
   "cell_type": "code",
   "execution_count": null,
   "metadata": {},
   "outputs": [],
   "source": []
  }
 ],
 "metadata": {
  "kernelspec": {
   "display_name": "Python 3",
   "language": "python",
   "name": "python3"
  },
  "language_info": {
   "codemirror_mode": {
    "name": "ipython",
    "version": 3
   },
   "file_extension": ".py",
   "mimetype": "text/x-python",
   "name": "python",
   "nbconvert_exporter": "python",
   "pygments_lexer": "ipython3",
   "version": "3.7.4"
  }
 },
 "nbformat": 4,
 "nbformat_minor": 4
}
